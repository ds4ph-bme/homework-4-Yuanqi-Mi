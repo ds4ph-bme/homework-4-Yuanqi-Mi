{
 "cells": [
  {
   "cell_type": "code",
   "execution_count": 41,
   "id": "b12f744d-2ee1-4b62-ba24-0499be1d1cf1",
   "metadata": {},
   "outputs": [
    {
     "data": {
      "text/plain": [
       "<function Connection.close()>"
      ]
     },
     "execution_count": 41,
     "metadata": {},
     "output_type": "execute_result"
    }
   ],
   "source": [
    "import sqlite3 as sq3\n",
    "import pandas as pd\n",
    "\n",
    "con = sq3.connect(\"opioid.db\")\n",
    "# cursor() creates an object that can execute functions in the sqlite cursor\n",
    "\n",
    "sql = con.cursor()\n",
    " \n",
    "# you have to close the connection\n",
    "con.close"
   ]
  },
  {
   "cell_type": "code",
   "execution_count": 42,
   "id": "77c9e0e0-0d87-4b88-989e-4222e5fa3331",
   "metadata": {},
   "outputs": [
    {
     "data": {
      "text/plain": [
       "<function Connection.close()>"
      ]
     },
     "execution_count": 42,
     "metadata": {},
     "output_type": "execute_result"
    }
   ],
   "source": [
    "population = pd.read_sql_query(\"SELECT * from population\", con)\n",
    "annual = pd.read_sql_query(\"SELECT * from annual\", con)\n",
    "land = pd.read_sql_query(\"SELECT * from land\", con)\n",
    "con.close"
   ]
  },
  {
   "cell_type": "code",
   "execution_count": 43,
   "id": "be6fffae-0b75-4c8c-9c9d-7c270abd904b",
   "metadata": {},
   "outputs": [
    {
     "data": {
      "text/plain": [
       "<bound method NDFrame.head of                BUYER_COUNTY BUYER_STATE countyfips STATE COUNTY  \\\n",
       "0          1        AUTAUGA          AL      01001     1      1   \n",
       "1          2        BALDWIN          AL      01003     1      3   \n",
       "2          3        BARBOUR          AL      01005     1      5   \n",
       "3          4           BIBB          AL      01007     1      7   \n",
       "4          5         BLOUNT          AL      01009     1      9   \n",
       "...      ...            ...         ...        ...   ...    ...   \n",
       "28260  28261       WASHAKIE          WY      56043    56     43   \n",
       "28261  28262         WESTON          WY      56045    56     45   \n",
       "28262  28263        SKAGWAY          AK      02230     2    230   \n",
       "28263  28264  HOONAH ANGOON          AK      02105     2    105   \n",
       "28264  28265     PETERSBURG          AK      02195     2    195   \n",
       "\n",
       "         county_name                               NAME    variable  year  \\\n",
       "0            Autauga            Autauga County, Alabama  B01003_001  2006   \n",
       "1            Baldwin            Baldwin County, Alabama  B01003_001  2006   \n",
       "2            Barbour            Barbour County, Alabama  B01003_001  2006   \n",
       "3               Bibb               Bibb County, Alabama  B01003_001  2006   \n",
       "4             Blount             Blount County, Alabama  B01003_001  2006   \n",
       "...              ...                                ...         ...   ...   \n",
       "28260       Washakie           Washakie County, Wyoming  B01003_001  2014   \n",
       "28261         Weston             Weston County, Wyoming  B01003_001  2014   \n",
       "28262        Skagway       Skagway Municipality, Alaska  B01003_001  2014   \n",
       "28263  Hoonah Angoon  Hoonah-Angoon Census Area, Alaska  B01003_001  2014   \n",
       "28264     Petersburg         Petersburg Borough, Alaska  B01003_001  2014   \n",
       "\n",
       "      population  \n",
       "0          51328  \n",
       "1         168121  \n",
       "2          27861  \n",
       "3          22099  \n",
       "4          55485  \n",
       "...          ...  \n",
       "28260       8444  \n",
       "28261       7135  \n",
       "28262        996  \n",
       "28263       2126  \n",
       "28264       3212  \n",
       "\n",
       "[28265 rows x 11 columns]>"
      ]
     },
     "execution_count": 43,
     "metadata": {},
     "output_type": "execute_result"
    }
   ],
   "source": [
    "population.head\n"
   ]
  },
  {
   "cell_type": "code",
   "execution_count": 44,
   "id": "eab92555-c21d-412d-bb72-5890bf1b4ea4",
   "metadata": {},
   "outputs": [
    {
     "data": {
      "text/plain": [
       "<bound method NDFrame.head of              BUYER_COUNTY BUYER_STATE  year count DOSAGE_UNIT countyfips\n",
       "0          1    ABBEVILLE          SC  2006   877      363620      45001\n",
       "1          2    ABBEVILLE          SC  2007   908      402940      45001\n",
       "2          3    ABBEVILLE          SC  2008   871      424590      45001\n",
       "3          4    ABBEVILLE          SC  2009   930      467230      45001\n",
       "4          5    ABBEVILLE          SC  2010  1197      539280      45001\n",
       "...      ...          ...         ...   ...   ...         ...        ...\n",
       "27753  27754           NA          NV  2007   447      200600         NA\n",
       "27754  27755           NA          NV  2008     5        2200         NA\n",
       "27755  27756           NA          OH  2006    23        5100         NA\n",
       "27756  27757           NA          PR  2006    10       17800         NA\n",
       "27757  27758           NA          PR  2007     2        1300         NA\n",
       "\n",
       "[27758 rows x 7 columns]>"
      ]
     },
     "execution_count": 44,
     "metadata": {},
     "output_type": "execute_result"
    }
   ],
   "source": [
    "annual.head"
   ]
  },
  {
   "cell_type": "code",
   "execution_count": 45,
   "id": "e7e44d0a-50b1-4d8f-99f3-cb7244bad584",
   "metadata": {},
   "outputs": [
    {
     "data": {
      "text/plain": [
       "<bound method NDFrame.head of                   Areaname  STCOU LND010190F  LND010190D LND010190N1  \\\n",
       "0        1   UNITED STATES  00000          0  3787425.08        0000   \n",
       "1        2         ALABAMA  01000          0    52422.94        0000   \n",
       "2        3     Autauga, AL  01001          0      604.49        0000   \n",
       "3        4     Baldwin, AL  01003          0     2027.08        0000   \n",
       "4        5     Barbour, AL  01005          0      904.59        0000   \n",
       "...    ...             ...    ...        ...         ...         ...   \n",
       "3193  3194  Sweetwater, WY  56037          0    10491.73        0000   \n",
       "3194  3195       Teton, WY  56039          0     4221.96        0000   \n",
       "3195  3196       Uinta, WY  56041          0     2087.66        0000   \n",
       "3196  3197    Washakie, WY  56043          0     2242.85        0000   \n",
       "3197  3198      Weston, WY  56045          0     2400.13        0000   \n",
       "\n",
       "     LND010190N2 LND010200F  LND010200D LND010200N1  ... LND110210N1  \\\n",
       "0           0000          0  3794083.06        0000  ...        0000   \n",
       "1           0000          0    52419.02        0000  ...        0000   \n",
       "2           0000          0      604.45        0000  ...        0000   \n",
       "3           0000          0     2026.93        0000  ...        0000   \n",
       "4           0000          0      904.52        0000  ...        0000   \n",
       "...          ...        ...         ...         ...  ...         ...   \n",
       "3193        0000          0    10491.17        0000  ...        0000   \n",
       "3194        0000          0      4221.8        0000  ...        0000   \n",
       "3195        0000          0     2087.56        0000  ...        0000   \n",
       "3196        0000          0     2242.75        0000  ...        0000   \n",
       "3197        0000          0     2400.07        0000  ...        0000   \n",
       "\n",
       "     LND110210N2 LND210190F LND210190D LND210190N1 LND210190N2 LND210200F  \\\n",
       "0           0000          0  251083.35        0000        0000          0   \n",
       "1           0000          0    1672.71        0000        0000          0   \n",
       "2           0000          0       8.48        0000        0000          0   \n",
       "3           0000          0     430.55        0000        0000          0   \n",
       "4           0000          0      19.59        0000        0000          0   \n",
       "...          ...        ...        ...         ...         ...        ...   \n",
       "3193        0000          0      65.86        0000        0000          0   \n",
       "3194        0000          0     214.02        0000        0000          0   \n",
       "3195        0000          0       5.91        0000        0000          0   \n",
       "3196        0000          0       2.69        0000        0000          0   \n",
       "3197        0000          0       2.21        0000        0000          0   \n",
       "\n",
       "     LND210200D LND210200N1 LND210200N2  \n",
       "0     256644.62        0000        0000  \n",
       "1       1675.01        0000        0000  \n",
       "2          8.48        0000        0000  \n",
       "3        430.58        0000        0000  \n",
       "4         19.61        0000        0000  \n",
       "...         ...         ...         ...  \n",
       "3193      65.87        0000        0000  \n",
       "3194     214.04        0000        0000  \n",
       "3195        5.9        0000        0000  \n",
       "3196       2.69        0000        0000  \n",
       "3197       2.21        0000        0000  \n",
       "\n",
       "[3198 rows x 35 columns]>"
      ]
     },
     "execution_count": 45,
     "metadata": {},
     "output_type": "execute_result"
    }
   ],
   "source": [
    "land.head"
   ]
  },
  {
   "cell_type": "code",
   "execution_count": 46,
   "id": "a6b13d52-ebdb-4dbe-b8ba-77f67de377ec",
   "metadata": {},
   "outputs": [],
   "source": [
    "import pandas as pd\n",
    "def update(row):\n",
    "    if row['BUYER_STATE'] == 'AR' and row['BUYER_COUNTY'] == 'MONTGOMERY':\n",
    "        return '05097'\n",
    "    else:\n",
    "        return row['countyfips']\n",
    "annual['countyfips'] = annual.apply(update, axis=1)"
   ]
  },
  {
   "cell_type": "code",
   "execution_count": 47,
   "id": "cb608fe4-910b-486f-a914-c0e9ca3550b1",
   "metadata": {},
   "outputs": [],
   "source": [
    "annual = annual[annual['BUYER_COUNTY'] != \"NA\"]"
   ]
  },
  {
   "cell_type": "code",
   "execution_count": 48,
   "id": "1518fde3-03d2-4030-946a-8bdfac615ce9",
   "metadata": {},
   "outputs": [
    {
     "data": {
      "text/plain": [
       "(27741, 7)"
      ]
     },
     "execution_count": 48,
     "metadata": {},
     "output_type": "execute_result"
    }
   ],
   "source": [
    "annual.shape"
   ]
  },
  {
   "cell_type": "code",
   "execution_count": 49,
   "id": "d84ca4e0-aad4-43bf-8584-e8ecead22039",
   "metadata": {},
   "outputs": [],
   "source": [
    "land_area = land[['Areaname', 'STCOU', 'LND110210D']].rename(columns={'STCOU': 'countyfips'}).copy()"
   ]
  },
  {
   "cell_type": "code",
   "execution_count": 50,
   "id": "d96d4ad6-1a9f-4258-beec-0afd4697adf8",
   "metadata": {},
   "outputs": [
    {
     "data": {
      "text/plain": [
       "<bound method NDFrame.head of             Areaname countyfips  LND110210D\n",
       "0      UNITED STATES      00000  3531905.43\n",
       "1            ALABAMA      01000    50645.33\n",
       "2        Autauga, AL      01001      594.44\n",
       "3        Baldwin, AL      01003     1589.78\n",
       "4        Barbour, AL      01005      884.88\n",
       "...              ...        ...         ...\n",
       "3193  Sweetwater, WY      56037    10426.65\n",
       "3194       Teton, WY      56039     3995.38\n",
       "3195       Uinta, WY      56041     2081.26\n",
       "3196    Washakie, WY      56043     2238.55\n",
       "3197      Weston, WY      56045     2398.09\n",
       "\n",
       "[3198 rows x 3 columns]>"
      ]
     },
     "execution_count": 50,
     "metadata": {},
     "output_type": "execute_result"
    }
   ],
   "source": [
    "land_area.head"
   ]
  },
  {
   "cell_type": "code",
   "execution_count": 51,
   "id": "77b9dd68-8723-4531-8466-5dcf4c1566c0",
   "metadata": {},
   "outputs": [],
   "source": [
    "county_info = pd.merge(population, land_area, on='countyfips',how='left')"
   ]
  },
  {
   "cell_type": "code",
   "execution_count": 52,
   "id": "c9431520-a621-4256-adef-01eaddb1137c",
   "metadata": {},
   "outputs": [
    {
     "data": {
      "text/plain": [
       "<bound method NDFrame.head of                BUYER_COUNTY BUYER_STATE countyfips STATE COUNTY  \\\n",
       "0          1        AUTAUGA          AL      01001     1      1   \n",
       "1          2        BALDWIN          AL      01003     1      3   \n",
       "2          3        BARBOUR          AL      01005     1      5   \n",
       "3          4           BIBB          AL      01007     1      7   \n",
       "4          5         BLOUNT          AL      01009     1      9   \n",
       "...      ...            ...         ...        ...   ...    ...   \n",
       "28260  28261       WASHAKIE          WY      56043    56     43   \n",
       "28261  28262         WESTON          WY      56045    56     45   \n",
       "28262  28263        SKAGWAY          AK      02230     2    230   \n",
       "28263  28264  HOONAH ANGOON          AK      02105     2    105   \n",
       "28264  28265     PETERSBURG          AK      02195     2    195   \n",
       "\n",
       "         county_name                               NAME    variable  year  \\\n",
       "0            Autauga            Autauga County, Alabama  B01003_001  2006   \n",
       "1            Baldwin            Baldwin County, Alabama  B01003_001  2006   \n",
       "2            Barbour            Barbour County, Alabama  B01003_001  2006   \n",
       "3               Bibb               Bibb County, Alabama  B01003_001  2006   \n",
       "4             Blount             Blount County, Alabama  B01003_001  2006   \n",
       "...              ...                                ...         ...   ...   \n",
       "28260       Washakie           Washakie County, Wyoming  B01003_001  2014   \n",
       "28261         Weston             Weston County, Wyoming  B01003_001  2014   \n",
       "28262        Skagway       Skagway Municipality, Alaska  B01003_001  2014   \n",
       "28263  Hoonah Angoon  Hoonah-Angoon Census Area, Alaska  B01003_001  2014   \n",
       "28264     Petersburg         Petersburg Borough, Alaska  B01003_001  2014   \n",
       "\n",
       "      population           Areaname LND110210D  \n",
       "0          51328        Autauga, AL     594.44  \n",
       "1         168121        Baldwin, AL    1589.78  \n",
       "2          27861        Barbour, AL     884.88  \n",
       "3          22099           Bibb, AL     622.58  \n",
       "4          55485         Blount, AL     644.78  \n",
       "...          ...                ...        ...  \n",
       "28260       8444       Washakie, WY    2238.55  \n",
       "28261       7135         Weston, WY    2398.09  \n",
       "28262        996        Skagway, AK     452.33  \n",
       "28263       2126  Hoonah-Angoon, AK    7524.92  \n",
       "28264       3212     Petersburg, AK    3281.98  \n",
       "\n",
       "[28265 rows x 13 columns]>"
      ]
     },
     "execution_count": 52,
     "metadata": {},
     "output_type": "execute_result"
    }
   ],
   "source": [
    "county_info.head"
   ]
  },
  {
   "cell_type": "code",
   "execution_count": 53,
   "id": "f333409e-27f4-4824-8ccb-7d68707d833e",
   "metadata": {},
   "outputs": [],
   "source": [
    "import matplotlib.pyplot as plt\n"
   ]
  },
  {
   "cell_type": "code",
   "execution_count": 54,
   "id": "5c85057f-acf2-459f-9289-d97d0b14e07e",
   "metadata": {},
   "outputs": [],
   "source": [
    "annual.loc[:, 'DOSAGE_UNIT'] = pd.to_numeric(annual['DOSAGE_UNIT'], errors='coerce')\n",
    "annual.loc[:, 'DOSAGE_UNIT'] = annual['DOSAGE_UNIT'] / 1000000\n",
    "average_dosage_per_year = annual.groupby('year')['DOSAGE_UNIT'].mean()\n",
    "average_dosage_per_year_df = average_dosage_per_year.reset_index()"
   ]
  },
  {
   "cell_type": "code",
   "execution_count": 55,
   "id": "9f96ab30-a6d4-40e2-a637-2ce189c13501",
   "metadata": {},
   "outputs": [
    {
     "data": {
      "text/html": [
       "<div>\n",
       "<style scoped>\n",
       "    .dataframe tbody tr th:only-of-type {\n",
       "        vertical-align: middle;\n",
       "    }\n",
       "\n",
       "    .dataframe tbody tr th {\n",
       "        vertical-align: top;\n",
       "    }\n",
       "\n",
       "    .dataframe thead th {\n",
       "        text-align: right;\n",
       "    }\n",
       "</style>\n",
       "<table border=\"1\" class=\"dataframe\">\n",
       "  <thead>\n",
       "    <tr style=\"text-align: right;\">\n",
       "      <th></th>\n",
       "      <th>year</th>\n",
       "      <th>DOSAGE_UNIT</th>\n",
       "    </tr>\n",
       "  </thead>\n",
       "  <tbody>\n",
       "    <tr>\n",
       "      <th>0</th>\n",
       "      <td>2006</td>\n",
       "      <td>2.654669</td>\n",
       "    </tr>\n",
       "    <tr>\n",
       "      <th>1</th>\n",
       "      <td>2007</td>\n",
       "      <td>2.995906</td>\n",
       "    </tr>\n",
       "    <tr>\n",
       "      <th>2</th>\n",
       "      <td>2008</td>\n",
       "      <td>3.254271</td>\n",
       "    </tr>\n",
       "    <tr>\n",
       "      <th>3</th>\n",
       "      <td>2009</td>\n",
       "      <td>3.526038</td>\n",
       "    </tr>\n",
       "    <tr>\n",
       "      <th>4</th>\n",
       "      <td>2010</td>\n",
       "      <td>3.783656</td>\n",
       "    </tr>\n",
       "    <tr>\n",
       "      <th>5</th>\n",
       "      <td>2011</td>\n",
       "      <td>4.035583</td>\n",
       "    </tr>\n",
       "    <tr>\n",
       "      <th>6</th>\n",
       "      <td>2012</td>\n",
       "      <td>3.993064</td>\n",
       "    </tr>\n",
       "    <tr>\n",
       "      <th>7</th>\n",
       "      <td>2013</td>\n",
       "      <td>3.861752</td>\n",
       "    </tr>\n",
       "    <tr>\n",
       "      <th>8</th>\n",
       "      <td>2014</td>\n",
       "      <td>3.768738</td>\n",
       "    </tr>\n",
       "  </tbody>\n",
       "</table>\n",
       "</div>"
      ],
      "text/plain": [
       "   year DOSAGE_UNIT\n",
       "0  2006    2.654669\n",
       "1  2007    2.995906\n",
       "2  2008    3.254271\n",
       "3  2009    3.526038\n",
       "4  2010    3.783656\n",
       "5  2011    4.035583\n",
       "6  2012    3.993064\n",
       "7  2013    3.861752\n",
       "8  2014    3.768738"
      ]
     },
     "execution_count": 55,
     "metadata": {},
     "output_type": "execute_result"
    }
   ],
   "source": [
    "average_dosage_per_year_df"
   ]
  },
  {
   "cell_type": "code",
   "execution_count": 56,
   "id": "84d66aca-5627-4393-9de2-5b85e6105240",
   "metadata": {},
   "outputs": [
    {
     "data": {
      "image/png": "[encoded data removed]",
      "text/plain": [
       "<Figure size 640x480 with 1 Axes>"
      ]
     },
     "metadata": {},
     "output_type": "display_data"
    }
   ],
   "source": [
    "plt.scatter(average_dosage_per_year_df['year'], average_dosage_per_year_df['DOSAGE_UNIT'])\n",
    "plt.title('Average Dosage Unit Over Years')\n",
    "plt.xlabel('Year')\n",
    "plt.ylabel('Average Dosage Unit (millions)')\n",
    "plt.show()"
   ]
  },
  {
   "cell_type": "code",
   "execution_count": 63,
   "id": "6c207b43-7fb2-4295-9a6b-27adabb03cb7",
   "metadata": {},
   "outputs": [
    {
     "ename": "ModuleNotFoundError",
     "evalue": "No module named 'rpy2'",
     "output_type": "error",
     "traceback": [
      "\u001b[0;31m---------------------------------------------------------------------------\u001b[0m",
      "\u001b[0;31mModuleNotFoundError\u001b[0m                       Traceback (most recent call last)",
      "Cell \u001b[0;32mIn[63], line 1\u001b[0m\n\u001b[0;32m----> 1\u001b[0m \u001b[38;5;28;01mimport\u001b[39;00m \u001b[38;5;21;01mrpy2\u001b[39;00m\n\u001b[1;32m      2\u001b[0m \u001b[38;5;28;01mimport\u001b[39;00m \u001b[38;5;21;01mrpy2\u001b[39;00m\u001b[38;5;21;01m.\u001b[39;00m\u001b[38;5;21;01mrinterface\u001b[39;00m \u001b[38;5;28;01mas\u001b[39;00m \u001b[38;5;21;01mri\u001b[39;00m\n\u001b[1;32m      3\u001b[0m \u001b[38;5;28;01mimport\u001b[39;00m \u001b[38;5;21;01mrpy2\u001b[39;00m\u001b[38;5;21;01m.\u001b[39;00m\u001b[38;5;21;01mrobjects\u001b[39;00m \u001b[38;5;28;01mas\u001b[39;00m \u001b[38;5;21;01mro\u001b[39;00m\n",
      "\u001b[0;31mModuleNotFoundError\u001b[0m: No module named 'rpy2'"
     ]
    }
   ],
   "source": [
    "import rpy2\n",
    "import rpy2.rinterface as ri\n",
    "import rpy2.robjects as ro\n",
    "from rpy2.robjects.packages import importr\n",
    "\n",
    "#ri.initr()"
   ]
  },
  {
   "cell_type": "code",
   "execution_count": null,
   "id": "f9412072-2db0-418e-aecc-0c60fdfd9f71",
   "metadata": {},
   "outputs": [],
   "source": []
  },
  {
   "cell_type": "code",
   "execution_count": null,
   "id": "6761beb8-e61d-4bfd-9a16-d50be2693d98",
   "metadata": {},
   "outputs": [],
   "source": []
  }
 ],
 "metadata": {
  "kernelspec": {
   "display_name": "Python 3 (ipykernel)",
   "language": "python",
   "name": "python3"
  },
  "language_info": {
   "codemirror_mode": {
    "name": "ipython",
    "version": 3
   },
   "file_extension": ".py",
   "mimetype": "text/x-python",
   "name": "python",
   "nbconvert_exporter": "python",
   "pygments_lexer": "ipython3",
   "version": "3.10.10"
  }
 },
 "nbformat": 4,
 "nbformat_minor": 5
}
